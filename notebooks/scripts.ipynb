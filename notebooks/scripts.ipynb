{
 "cells": [
  {
   "cell_type": "markdown",
   "id": "a2c5caee-8eaa-4dc2-a5bf-bb6662b7ea4e",
   "metadata": {},
   "source": [
    "##Importing Packages"
   ]
  },
  {
   "cell_type": "code",
   "execution_count": 1,
   "id": "a5183d64-37e4-4804-8a21-42a942297a4f",
   "metadata": {},
   "outputs": [],
   "source": [
    "import pandas as pd\n",
    "import numpy as np\n",
    "import matplotlib.pyplot as plt\n",
    "import seaborn as sns\n",
    "import plotly.express as px"
   ]
  },
  {
   "cell_type": "markdown",
   "id": "186012e2-51d9-4bd6-98c7-74753d383657",
   "metadata": {},
   "source": [
    "#question 4: Using the pandas read_csv() method, read the GDP dataset into your notebook as a DataFrame called gdp_df. Take a look at the first few and last few rows to familiarize yourself with what is contained in this dataset."
   ]
  },
  {
   "cell_type": "code",
   "execution_count": 2,
   "id": "adcb08c7-c5a2-45f5-8436-9389035720e2",
   "metadata": {},
   "outputs": [],
   "source": [
    "gdp_df = pd.read_csv(\"../data/gdp_percapita.csv\")"
   ]
  },
  {
   "cell_type": "code",
   "execution_count": 3,
   "id": "2f5c4997-1105-466a-91c7-0951a3e72b84",
   "metadata": {},
   "outputs": [
    {
     "data": {
      "text/plain": [
       "pandas.core.frame.DataFrame"
      ]
     },
     "execution_count": 3,
     "metadata": {},
     "output_type": "execute_result"
    }
   ],
   "source": [
    "type(gdp_df)"
   ]
  },
  {
   "cell_type": "code",
   "execution_count": 4,
   "id": "b010334d-f3d7-42cb-99e9-83f0fc83c8e0",
   "metadata": {},
   "outputs": [
    {
     "data": {
      "text/html": [
       "<div>\n",
       "<style scoped>\n",
       "    .dataframe tbody tr th:only-of-type {\n",
       "        vertical-align: middle;\n",
       "    }\n",
       "\n",
       "    .dataframe tbody tr th {\n",
       "        vertical-align: top;\n",
       "    }\n",
       "\n",
       "    .dataframe thead th {\n",
       "        text-align: right;\n",
       "    }\n",
       "</style>\n",
       "<table border=\"1\" class=\"dataframe\">\n",
       "  <thead>\n",
       "    <tr style=\"text-align: right;\">\n",
       "      <th></th>\n",
       "      <th>Country or Area</th>\n",
       "      <th>Year</th>\n",
       "      <th>Value</th>\n",
       "      <th>Value Footnotes</th>\n",
       "    </tr>\n",
       "  </thead>\n",
       "  <tbody>\n",
       "    <tr>\n",
       "      <th>0</th>\n",
       "      <td>Afghanistan</td>\n",
       "      <td>2021</td>\n",
       "      <td>1517.016266</td>\n",
       "      <td>NaN</td>\n",
       "    </tr>\n",
       "    <tr>\n",
       "      <th>1</th>\n",
       "      <td>Afghanistan</td>\n",
       "      <td>2020</td>\n",
       "      <td>1968.341002</td>\n",
       "      <td>NaN</td>\n",
       "    </tr>\n",
       "    <tr>\n",
       "      <th>2</th>\n",
       "      <td>Afghanistan</td>\n",
       "      <td>2019</td>\n",
       "      <td>2079.921861</td>\n",
       "      <td>NaN</td>\n",
       "    </tr>\n",
       "    <tr>\n",
       "      <th>3</th>\n",
       "      <td>Afghanistan</td>\n",
       "      <td>2018</td>\n",
       "      <td>2060.698973</td>\n",
       "      <td>NaN</td>\n",
       "    </tr>\n",
       "    <tr>\n",
       "      <th>4</th>\n",
       "      <td>Afghanistan</td>\n",
       "      <td>2017</td>\n",
       "      <td>2096.093111</td>\n",
       "      <td>NaN</td>\n",
       "    </tr>\n",
       "  </tbody>\n",
       "</table>\n",
       "</div>"
      ],
      "text/plain": [
       "  Country or Area  Year        Value  Value Footnotes\n",
       "0     Afghanistan  2021  1517.016266              NaN\n",
       "1     Afghanistan  2020  1968.341002              NaN\n",
       "2     Afghanistan  2019  2079.921861              NaN\n",
       "3     Afghanistan  2018  2060.698973              NaN\n",
       "4     Afghanistan  2017  2096.093111              NaN"
      ]
     },
     "execution_count": 4,
     "metadata": {},
     "output_type": "execute_result"
    }
   ],
   "source": [
    "gdp_df.head()"
   ]
  },
  {
   "cell_type": "markdown",
   "id": "a1239973-b7e7-4ad0-8123-f20c0cf2530b",
   "metadata": {},
   "source": [
    "#Question 5. How many rows and columns are in `gdp_df`? What are the data types of each column?"
   ]
  },
  {
   "cell_type": "code",
   "execution_count": 34,
   "id": "ce38d63d-d7de-4c3f-9d5a-af89679ed38b",
   "metadata": {},
   "outputs": [
    {
     "data": {
      "text/plain": [
       "(7662, 4)"
      ]
     },
     "execution_count": 34,
     "metadata": {},
     "output_type": "execute_result"
    }
   ],
   "source": [
    "gdp_df.shape #this produces rows (index 0) and colums (index 1)"
   ]
  },
  {
   "cell_type": "code",
   "execution_count": 30,
   "id": "93befe05-e71c-427b-b358-a949ec3c3e25",
   "metadata": {},
   "outputs": [
    {
     "data": {
      "text/plain": [
       "'Afghanistan'"
      ]
     },
     "execution_count": 30,
     "metadata": {},
     "output_type": "execute_result"
    }
   ],
   "source": [
    "gdp_df.loc[10, \"Country or Area\"]"
   ]
  },
  {
   "cell_type": "code",
   "execution_count": null,
   "id": "018335a5-806c-44d4-ada3-e072623dd75f",
   "metadata": {},
   "outputs": [],
   "source": [
    "gdp_df.info #what are you dealing with along with"
   ]
  },
  {
   "cell_type": "code",
   "execution_count": null,
   "id": "6cd3dad6-7840-4b47-89f8-0d66d6441892",
   "metadata": {},
   "outputs": [],
   "source": [
    "gdp_df.info() #row count, column count breaking down of columns along with nulls and dtype( data type)"
   ]
  },
  {
   "cell_type": "code",
   "execution_count": null,
   "id": "d3471042-af9c-4f58-a2e1-2598b9744830",
   "metadata": {},
   "outputs": [],
   "source": [
    "gdp_df.dtypes #produces data types"
   ]
  },
  {
   "cell_type": "code",
   "execution_count": null,
   "id": "ddcec20c-3080-4e2f-b774-6522113335ae",
   "metadata": {},
   "outputs": [],
   "source": [
    "count_row = gdp_df.shape[0]   #number of rows in gdp_df\n",
    "count_col = gdp_df.shape[1]   #number of colums in gdp_df"
   ]
  },
  {
   "cell_type": "code",
   "execution_count": null,
   "id": "8cf559b9-3755-4d2e-b821-454dc3f81c8d",
   "metadata": {},
   "outputs": [],
   "source": [
    "count_row"
   ]
  },
  {
   "cell_type": "code",
   "execution_count": null,
   "id": "2ef8fe9e-73e8-4d72-b02a-618b6ac842e9",
   "metadata": {},
   "outputs": [],
   "source": [
    "count_col"
   ]
  },
  {
   "cell_type": "markdown",
   "id": "75665dca-1078-4649-a7d3-d289345ba793",
   "metadata": {},
   "source": [
    "#Question 6. Drop the `Value Footnotes` column and rename the remaining three to 'Country', 'Year', and 'GDP_Per_Capita'."
   ]
  },
  {
   "cell_type": "code",
   "execution_count": null,
   "id": "104610d8-a378-4974-a99e-493af5d23ef6",
   "metadata": {},
   "outputs": [],
   "source": [
    "#del gdp_df[\"Value Footnotes\"]"
   ]
  },
  {
   "cell_type": "code",
   "execution_count": null,
   "id": "342b8ca2-43d5-4e46-a1e0-2b15fd7116da",
   "metadata": {},
   "outputs": [],
   "source": [
    "gdp_df=gdp_df.drop(\"Value Footnotes\",axis=1).set_axis([\"Country\", \"Year\", \"GDP_Per_Capita\"], axis=1)"
   ]
  },
  {
   "cell_type": "code",
   "execution_count": null,
   "id": "03fc8071-3e76-4b62-8973-e25a755fdae3",
   "metadata": {},
   "outputs": [],
   "source": [
    "##gdp_df.drop(columns=['Value Footnotes']).rename(columns={'Country or Area':'Country','Value':'GDP_Per_Capita'}) \n",
    "#name to be changed followed by \":\" new name"
   ]
  },
  {
   "cell_type": "code",
   "execution_count": null,
   "id": "38a51a09-8863-4d03-8db2-799224c448c7",
   "metadata": {},
   "outputs": [],
   "source": [
    "##BEST PRACTICE TO RENAME is to use gdp_df.rename(columns = {'Country or Area':'Country','Value':'GDP_Per_Capita'}) "
   ]
  },
  {
   "cell_type": "code",
   "execution_count": null,
   "id": "fe15c821-941a-4bdf-a8e2-661c0aa9da22",
   "metadata": {},
   "outputs": [],
   "source": [
    "#gdp_df.drop(columns=['Value Footnotes']) #dropping just the column "
   ]
  },
  {
   "cell_type": "code",
   "execution_count": null,
   "id": "baa856cb-38be-4719-9c53-1bc605806352",
   "metadata": {},
   "outputs": [],
   "source": [
    "##gdp = gdp_df.set_axis([\"Country\", \"Year\", \"GDP_Per_Capita\"], axis=1)"
   ]
  },
  {
   "cell_type": "code",
   "execution_count": null,
   "id": "03d076d0-81c5-4082-abf5-f0f306c27b07",
   "metadata": {},
   "outputs": [],
   "source": [
    "gdp_df"
   ]
  },
  {
   "cell_type": "markdown",
   "id": "799ee063-210b-4fae-a121-a8661948b64d",
   "metadata": {},
   "source": [
    "#Question 7. How many countries have data for all years? Which countries are missing many years of data? Look at the number of observations per year. What do you notice?"
   ]
  },
  {
   "cell_type": "code",
   "execution_count": null,
   "id": "13fad5b3-ef6e-4464-b813-4d618f3f1acd",
   "metadata": {},
   "outputs": [],
   "source": [
    "gdp_df[\"Year\"].nunique()  #producing the distict count"
   ]
  },
  {
   "cell_type": "code",
   "execution_count": null,
   "id": "73211f8a-b5c8-406d-9c00-a1e9547e244c",
   "metadata": {},
   "outputs": [],
   "source": [
    "gdp_df[\"Year\"].sort_values().nunique()    #.tolist()"
   ]
  },
  {
   "cell_type": "code",
   "execution_count": null,
   "id": "4e1366fa-87a5-4721-99c0-4a7c6c29f8ad",
   "metadata": {},
   "outputs": [],
   "source": [
    "gdp_df[gdp_df['Country']==\"Pakistan\"].head(3)  #HOW TO FILTER"
   ]
  },
  {
   "cell_type": "code",
   "execution_count": null,
   "id": "13513193-dd1e-431a-acec-fbc3448b298f",
   "metadata": {},
   "outputs": [],
   "source": [
    "gdp_df[gdp_df['Country']==\"Pakistan\"].reset_index(drop=True).head(3)   #.reset_index will produce index column\n",
    "#filtering out more than 1 column\n",
    "#gdp_df[(gdp_df[\"Year\"]==2020)&(gdp_df[\"Country\"]==\"Pakistan\")]  #FILTER MULTIPLE COLUMS"
   ]
  },
  {
   "cell_type": "code",
   "execution_count": null,
   "id": "07cfeb19-2fe9-4cf3-87ba-d538315b4542",
   "metadata": {},
   "outputs": [],
   "source": [
    "count_df = gdp_df[\"Country\"].value_counts().reset_index()#.rename(columns={'Index' : \"Country\" , \"Country\" : \"count\"})"
   ]
  },
  {
   "cell_type": "code",
   "execution_count": null,
   "id": "500cfa90-a5c4-4f9d-b6c5-652eb18a1e90",
   "metadata": {},
   "outputs": [],
   "source": [
    "count_df"
   ]
  },
  {
   "cell_type": "code",
   "execution_count": null,
   "id": "8ac302bf-e60a-4c34-84ee-eebad8d2e33d",
   "metadata": {},
   "outputs": [],
   "source": [
    "count_df[count_df[\"count\"]<33][\"Country\"].count()"
   ]
  },
  {
   "cell_type": "code",
   "execution_count": null,
   "id": "11aa35c4-a39b-4c26-9ec3-b67e2ce1e4b1",
   "metadata": {},
   "outputs": [],
   "source": [
    "count_df[count_df[\"count\"]>32][\"Country\"].count()"
   ]
  },
  {
   "cell_type": "code",
   "execution_count": null,
   "id": "af765c22-d6e1-4548-9f61-322c28d42b79",
   "metadata": {},
   "outputs": [],
   "source": [
    "##missing_years=gdp_df.groupby([\"Country\"])[\"Year\"].count().sort_values().reset_index()"
   ]
  },
  {
   "cell_type": "code",
   "execution_count": null,
   "id": "7732858b-22fb-48e1-8b4e-d46651ba0d07",
   "metadata": {},
   "outputs": [],
   "source": [
    "##missing_countries = gdp_df.groupby('Country')['Year'].count().sort_values().reset_index()"
   ]
  },
  {
   "cell_type": "code",
   "execution_count": null,
   "id": "b15bd1ba-12e0-4851-a445-64075a4725e1",
   "metadata": {},
   "outputs": [],
   "source": [
    "##print(missing_countries.head(30))"
   ]
  },
  {
   "cell_type": "code",
   "execution_count": null,
   "id": "5b2d4410-11cb-4894-ba93-ae9dc7d15505",
   "metadata": {},
   "outputs": [],
   "source": []
  },
  {
   "cell_type": "markdown",
   "id": "bc9dc025-c999-4c4a-b61a-c5e71fdfb3d7",
   "metadata": {},
   "source": [
    "##Question 8. In this question, you're going to create some plots to show the distribution of GDP per capita for the year 2020. Go to the Python Graph Gallery (https://www.python-graph-gallery.com/) and look at the different types of plots under the Distribution section. Create a histogram, a density plot, a boxplot, and a violin plot. What do you notice when you look at these plots? How do the plots compare and what information can you get out of one type that you can't necessarily get out of the others?"
   ]
  },
  {
   "cell_type": "code",
   "execution_count": null,
   "id": "33cc9581-f71b-4b81-a276-2e7e03a98708",
   "metadata": {},
   "outputs": [],
   "source": [
    "df_2020 = gdp_df[gdp_df['Year']==2020].reset_index(drop=True)"
   ]
  },
  {
   "cell_type": "code",
   "execution_count": null,
   "id": "4cf87365-15fe-4088-b010-c79b6d1c5396",
   "metadata": {},
   "outputs": [],
   "source": [
    "df_2020"
   ]
  },
  {
   "cell_type": "code",
   "execution_count": null,
   "id": "724a5d4b-346f-40e8-81cd-cb26c0107d6a",
   "metadata": {},
   "outputs": [],
   "source": [
    "df_2020['GDP_Per_Capita'].plot(kind='hist', edgecolor = 'black' , bins = 25)"
   ]
  },
  {
   "cell_type": "code",
   "execution_count": null,
   "id": "f51a4d4b-5538-45d0-95d8-2cc2fa5fb5f3",
   "metadata": {},
   "outputs": [],
   "source": [
    "#renuka sns.displot(data=gdp_2020['GDP_Per_Capita'],kde=True)"
   ]
  },
  {
   "cell_type": "code",
   "execution_count": null,
   "id": "9d1e0ea6-73bd-452d-b7cc-f2bedf269bbb",
   "metadata": {},
   "outputs": [],
   "source": [
    "#renuka #Create a density plot using matplotlib\n",
    "#gdp_2020.GDP_Per_Capita.plot.density(color='green')\n",
    "#plt.title('Denisty plot for GDP per capita using matplotlib')\n",
    "#plt.show()"
   ]
  },
  {
   "cell_type": "code",
   "execution_count": null,
   "id": "f5e89fb9-0a3b-4de6-9d7c-3ced0358186b",
   "metadata": {},
   "outputs": [],
   "source": [
    "#renuka \n",
    "#Create a density plot using seaborn\n",
    "#sns.kdeplot(data = gdp_2020, x= 'GDP_Per_Capita', fill = 'skyblue')\n",
    "#plt.xlabel('GDP Per Capita')\n",
    "#plt.title('Density plot for GDP per capita using seaborn')\n",
    "#plt.show()"
   ]
  },
  {
   "cell_type": "code",
   "execution_count": null,
   "id": "4a76a7d3-8460-4e8e-9e3e-1288e61397de",
   "metadata": {},
   "outputs": [],
   "source": [
    "#renuka\n",
    "# Boxplot using Pandas\n",
    "#gdp_2020.boxplot(column =['GDP_Per_Capita'], grid = False)\n",
    "#plt.xlabel('GDP Per Capita')\n",
    "#plt.title('Boxplot for GDP per capita')\n",
    "#plt.show()"
   ]
  },
  {
   "cell_type": "code",
   "execution_count": null,
   "id": "123832c0-1170-42b8-9dc0-9dfb88796b43",
   "metadata": {},
   "outputs": [],
   "source": [
    "#renuka\n",
    "# Boxplot using Seaborn\n",
    "#sns.boxplot(data =gdp_2020, x='GDP_Per_Capita')\n",
    "#plt.xlabel('GDP Per Capita')\n",
    "#plt.title('Boxplot for GDP per capita using Seaborn')\n",
    "#plt.show()"
   ]
  },
  {
   "cell_type": "code",
   "execution_count": null,
   "id": "7e668592-40c2-4a93-bbeb-be3436476425",
   "metadata": {},
   "outputs": [],
   "source": [
    "### Question 9"
   ]
  },
  {
   "cell_type": "code",
   "execution_count": null,
   "id": "b71e061a-2235-4fe0-a8f2-d8327c765372",
   "metadata": {},
   "outputs": [],
   "source": [
    "df_2020[\"GDP_Per_Capita\"].median()"
   ]
  },
  {
   "cell_type": "code",
   "execution_count": null,
   "id": "10aeec69-af06-402e-a71a-b5406f9c0d37",
   "metadata": {},
   "outputs": [],
   "source": [
    "##Question 10"
   ]
  },
  {
   "cell_type": "code",
   "execution_count": null,
   "id": "b43457b3-5e27-489c-a7f9-83ad3ee4e4fc",
   "metadata": {},
   "outputs": [],
   "source": [
    "gdp_df[\"Year\"].isin([1990, 2000, 2010 , 2020])\n",
    "\n",
    "#2nd way is\n",
    "#my_years = [1990, 2000, 2010, 2020]\n",
    "#gdp_df[\"Year\"].isin(my_years)"
   ]
  },
  {
   "cell_type": "code",
   "execution_count": null,
   "id": "ad718977-f5fc-4841-84a5-7a76aaa8bbf9",
   "metadata": {},
   "outputs": [],
   "source": [
    "gdp_decade = gdp_df[gdp_df[\"Year\"].isin([1990, 2000, 2010 , 2020])]"
   ]
  },
  {
   "cell_type": "code",
   "execution_count": null,
   "id": "6731acc2-2b2b-483d-b731-ed27d74e9634",
   "metadata": {},
   "outputs": [],
   "source": [
    "gdp_decade"
   ]
  },
  {
   "cell_type": "code",
   "execution_count": null,
   "id": "e174b969-02f4-431b-bb1d-d9922a6fc307",
   "metadata": {},
   "outputs": [],
   "source": [
    "sns.boxplot(data = gdp_decade,\n",
    "            x=\"Year\" ,\n",
    "            y=\"GDP_Per_Capita\")"
   ]
  },
  {
   "cell_type": "code",
   "execution_count": null,
   "id": "ce0e9b5d-ab81-4adf-b76a-0883bc0c9591",
   "metadata": {},
   "outputs": [],
   "source": [
    "#bar plot mean value plot\n",
    "sns.barplot(data = gdp_decade,\n",
    "            x=\"Year\" ,\n",
    "            y=\"GDP_Per_Capita\")"
   ]
  },
  {
   "cell_type": "code",
   "execution_count": null,
   "id": "1ab39fe4-78f3-4f1d-bf0c-eb7e90a72bc3",
   "metadata": {},
   "outputs": [],
   "source": [
    "sns.__version__"
   ]
  },
  {
   "cell_type": "code",
   "execution_count": null,
   "id": "9ff5c5f1-aafc-442e-aeaf-62c8519f2476",
   "metadata": {},
   "outputs": [],
   "source": [
    "sns.scatterplot(data = gdp_decade,\n",
    "            x=\"Year\" ,\n",
    "            y=\"GDP_Per_Capita\")"
   ]
  },
  {
   "cell_type": "code",
   "execution_count": null,
   "id": "2b306e75-7493-495a-8462-650633a90631",
   "metadata": {},
   "outputs": [],
   "source": [
    "sns.regplot(data = gdp_decade,\n",
    "            x=\"Year\" ,\n",
    "            y=\"GDP_Per_Capita\")"
   ]
  },
  {
   "cell_type": "code",
   "execution_count": null,
   "id": "c46237fc-9670-4bf2-999d-0eb3201cc0e7",
   "metadata": {},
   "outputs": [],
   "source": []
  },
  {
   "cell_type": "code",
   "execution_count": null,
   "id": "2fbba8bc-79ec-470d-9d1d-badb29fa0f67",
   "metadata": {},
   "outputs": [],
   "source": [
    "###Question 11"
   ]
  },
  {
   "cell_type": "code",
   "execution_count": null,
   "id": "a1773df8-2cd7-4952-aa19-41216569b3e9",
   "metadata": {},
   "outputs": [],
   "source": [
    "gdp_df[gdp_df['GDP_Per_Capita']>100000].sort_values(\"Year\").head(1)"
   ]
  },
  {
   "cell_type": "code",
   "execution_count": null,
   "id": "95983472-167f-4792-adc2-896f3fa5b216",
   "metadata": {},
   "outputs": [],
   "source": [
    "#Question 12"
   ]
  },
  {
   "cell_type": "code",
   "execution_count": null,
   "id": "67ff3619-162a-4443-b9ab-1c820b1dfe60",
   "metadata": {},
   "outputs": [],
   "source": [
    "gdp_df[gdp_df['Year']==2020].nlargest(10,\"GDP_Per_Capita\").head(1)"
   ]
  },
  {
   "cell_type": "code",
   "execution_count": null,
   "id": "bc8d46a9-5a62-4d15-8dbf-85b77d99e401",
   "metadata": {},
   "outputs": [],
   "source": [
    "top_country = gdp_df[gdp_df['Country']==\"Luxembourg\"]"
   ]
  },
  {
   "cell_type": "code",
   "execution_count": null,
   "id": "f7852755-6bcd-46a1-b730-2d2d93d1b7dd",
   "metadata": {},
   "outputs": [],
   "source": [
    "top_country.plot (x=\"Year\",y=\"GDP_Per_Capita\",kind = \"line\")"
   ]
  },
  {
   "cell_type": "code",
   "execution_count": null,
   "id": "4243e9cf-9595-4492-8e97-1c668ac17da4",
   "metadata": {},
   "outputs": [],
   "source": [
    "#Question 13\n",
    "#Which country had the lowest GDP per capita in 2020? \n",
    "#Create a plot showing how this country's GDP per capita has changed over the timespan of the dataset. \n",
    "#**Bonus question:** Is it true in general that coutries had a higher GDP per capita in 2020 than in 1990? \n",
    "#Which countries had lower GDP per capita in 2020 than in 1990?"
   ]
  },
  {
   "cell_type": "code",
   "execution_count": null,
   "id": "66504b9b-7b6d-4d7b-af0c-3941fed0efab",
   "metadata": {},
   "outputs": [],
   "source": [
    "gdp_df[gdp_df['Year']==2020].nsmallest(10,\"GDP_Per_Capita\")"
   ]
  },
  {
   "cell_type": "code",
   "execution_count": null,
   "id": "be5e8447-b850-4512-affa-295f0c436fa7",
   "metadata": {},
   "outputs": [],
   "source": [
    "down_country = gdp_df[gdp_df['Country']==\"Burundi\"]"
   ]
  },
  {
   "cell_type": "code",
   "execution_count": null,
   "id": "6238f18e-54a6-4975-97aa-28fff4568588",
   "metadata": {},
   "outputs": [],
   "source": [
    "down_country.plot (x=\"Year\",y=\"GDP_Per_Capita\",kind = \"line\")"
   ]
  },
  {
   "cell_type": "code",
   "execution_count": null,
   "id": "f9464ed6-a0d5-426f-b03e-b0860631017e",
   "metadata": {},
   "outputs": [],
   "source": [
    "#######Question 14\n",
    "#1a Read in the internet use dataset into a DataFrame named `internet_df`. You will likely get errors when doing this. \n",
    "#1b Check the arguments for the read_csv function to find ones that can help correct the errors (https://pandas.pydata.org/docs/reference/api/pandas.read_csv.html) \n",
    "#1c Once you are able to read it in, take per a look at the top and bottom few rows to make sure that it has been read in correctly. "
   ]
  },
  {
   "cell_type": "code",
   "execution_count": null,
   "id": "7b5e0906-7359-4e41-9424-601670d86af1",
   "metadata": {},
   "outputs": [],
   "source": [
    "#consulted with Charlie on this code for double check\n",
    "gdpi_df = pd.read_csv(\"../data/internet_use.csv\",nrows=6083) #usecols=[0,1,2,3]"
   ]
  },
  {
   "cell_type": "code",
   "execution_count": null,
   "id": "736d6991-1797-42e4-9168-954863fb45c1",
   "metadata": {},
   "outputs": [],
   "source": [
    "#gdpi_df = pd.read_csv(\"../data/internet_use.csv\", on_bad_lines='skip') #this ends up skipping that 6378 row"
   ]
  },
  {
   "cell_type": "code",
   "execution_count": null,
   "id": "833faab6-1e3b-43ef-a28c-8576bffd0d2f",
   "metadata": {},
   "outputs": [],
   "source": [
    "#pd.read_csv(\"../data/internet_use.csv\") #to see error generated at row 6378"
   ]
  },
  {
   "cell_type": "code",
   "execution_count": null,
   "id": "f6293942-2073-4aca-89ef-c91bc8f8eec7",
   "metadata": {},
   "outputs": [],
   "source": [
    "gdpi_df.head"
   ]
  },
  {
   "cell_type": "code",
   "execution_count": null,
   "id": "56788b62-ac79-4c4d-8f23-6b7d92930195",
   "metadata": {},
   "outputs": [],
   "source": [
    "# Question 15. Drop the `Value Footnotes` column and rename the remaining three to 'Country', 'Year', and 'Internet_Users_Pct'."
   ]
  },
  {
   "cell_type": "code",
   "execution_count": null,
   "id": "ec38b893-91b1-485a-8b3c-8a1709d182ba",
   "metadata": {},
   "outputs": [],
   "source": [
    "#gdp_df.drop(\"Value Footnotes\",axis=1).set_axis([\"Country\", \"Year\", \"GDP_Per_Capita\"], axis=1)\n",
    "gdpi_df = gdpi_df.drop(columns=['Value Footnotes']).rename(columns={'Country or Area':'Country','Value':'Internet_Users_Pct'})"
   ]
  },
  {
   "cell_type": "code",
   "execution_count": null,
   "id": "d01b9f0d-73b4-4f6f-98cd-4a2d8d4abe22",
   "metadata": {},
   "outputs": [],
   "source": [
    "count_dfi = gdpi_df[\"Country\"].value_counts().reset_index()"
   ]
  },
  {
   "cell_type": "code",
   "execution_count": null,
   "id": "cb82d0fb-cbe1-4956-8d3f-2e9ea8acb846",
   "metadata": {},
   "outputs": [],
   "source": [
    "gdpi_df"
   ]
  },
  {
   "cell_type": "code",
   "execution_count": null,
   "id": "49a7b2ac-2ed2-4e1a-a1d5-a1989c20fa10",
   "metadata": {},
   "outputs": [],
   "source": [
    "count_dfi"
   ]
  },
  {
   "cell_type": "code",
   "execution_count": null,
   "id": "c7f89868-3c0e-4a2a-a711-b9600eac54c6",
   "metadata": {},
   "outputs": [],
   "source": [
    "count_dfi[count_dfi[\"count\"]<34][\"Country\"].count()"
   ]
  },
  {
   "cell_type": "code",
   "execution_count": null,
   "id": "29a08eaf-d0ca-4f8d-ac99-7659b6b05b72",
   "metadata": {},
   "outputs": [],
   "source": [
    "count_dfi[count_dfi[\"count\"]>33][\"Country\"].count()"
   ]
  },
  {
   "cell_type": "code",
   "execution_count": null,
   "id": "8ba511d2-fa99-4285-8042-97f128c6cbe7",
   "metadata": {},
   "outputs": [],
   "source": [
    "#Question 16. Look at the number of observations in this dataset per year. What do you notice?"
   ]
  },
  {
   "cell_type": "code",
   "execution_count": null,
   "id": "ac1ce047-a050-4855-af8f-b03166c6c323",
   "metadata": {},
   "outputs": [],
   "source": [
    "gdpi_df.value_counts('Year')"
   ]
  },
  {
   "cell_type": "code",
   "execution_count": null,
   "id": "73e7fd54-9ee2-4e8b-b726-5bb6bfb2a61a",
   "metadata": {},
   "outputs": [],
   "source": [
    "#Question 17. What is the first year to have a non-zero internet users percentage value?\n",
    "## with Renuka's and Narendra's Help"
   ]
  },
  {
   "cell_type": "code",
   "execution_count": null,
   "id": "6ab78732-ea9b-4c30-aa0d-4ae6fb2cf6d0",
   "metadata": {},
   "outputs": [],
   "source": [
    "# Sort values in internet dataframe based on internet users percentage value\n",
    "net_df_with_value = gdpi_df.sort_values('Year')\n",
    "# Add a condition to find out internet users percentage having value greater than 0\n",
    "net_df_with_value[net_df_with_value['Internet_Users_Pct'] > 0].head(1)"
   ]
  },
  {
   "cell_type": "code",
   "execution_count": null,
   "id": "f0070193-b6ea-4f4f-b233-d30c2d5662ae",
   "metadata": {},
   "outputs": [],
   "source": [
    "#Question 18. How does the distribution of internet users percent differ for 2000 and 2014?"
   ]
  },
  {
   "cell_type": "code",
   "execution_count": null,
   "id": "ebcd11c8-b948-4233-846f-a4a369ca0758",
   "metadata": {},
   "outputs": [],
   "source": [
    "#Create seperate dataframes for internet user distribution in the year 2000 and 2014\n",
    "Net_user_2k = gdpi_df[(gdpi_df['Year'] == 2000)]\n",
    "Net_user_2k14 = gdpi_df[(gdpi_df['Year'] == 2014)]\n",
    "# A custom IQR(inter quartile range) function\n",
    "def iqr(column):\n",
    "    return column.quantile(0.75) - column.quantile(0.25)\n",
    "# Print IQR of net users in the year 2000\n",
    "print(Net_user_2k['Internet_Users_Pct'].agg([iqr]))\n",
    "# Print IQR of net users in the year 2014\n",
    "print(Net_user_2k14['Internet_Users_Pct'].agg([iqr]))"
   ]
  },
  {
   "cell_type": "code",
   "execution_count": null,
   "id": "c638c17e-f7a5-405b-9813-fbfea1035fcf",
   "metadata": {},
   "outputs": [],
   "source": [
    "#Question 19. For how many countries was the percentage of internet users below 5% in 2014?"
   ]
  },
  {
   "cell_type": "code",
   "execution_count": null,
   "id": "46c9d2eb-6344-49de-92cc-4a836b97a824",
   "metadata": {},
   "outputs": [],
   "source": [
    "gdpi_df[(gdpi_df['Year'] == 2014) & (gdpi_df['Internet_Users_Pct'] < 5)].count()\n",
    "\n",
    "#internet_df[np.logical_and(internet_df['Year'] == 2014,internet_df['Internet_Users_Pct']< 5)].count()\n",
    "#Renuka's\n"
   ]
  },
  {
   "cell_type": "code",
   "execution_count": null,
   "id": "3adb5307-f393-4eb2-968b-d87a5a870a4b",
   "metadata": {},
   "outputs": [],
   "source": [
    "##Question 20. Merge the two DataFrames to one. \n",
    "#Do this in a way that keeps **all rows** from each of the two DataFrames. Call the new DataFrame `gdp_and_internet_use`. \n",
    "#Look at the first and last few rows to confirm that it merged correctly."
   ]
  },
  {
   "cell_type": "code",
   "execution_count": null,
   "id": "7a24d5a9-15d2-4380-a027-1b1753c78e01",
   "metadata": {},
   "outputs": [],
   "source": [
    "#Merge 2 dataframes\n",
    "gdp_and_internet_use = pd.merge(gdp_df, gdpi_df, on = ['Country','Year'], how = 'outer')\n",
    "# Look at the first few rows\n",
    "gdp_and_internet_use#.head(10)\n",
    "# Look at the last few rows\n",
    "#gdp_and_internet_use.tail(10)\n",
    "\n",
    "\n",
    "#Ryan's approach\n",
    "#gdp_df.replace(\"Russia\",\"Russian Federation\", inplace = True)\n",
    "\n",
    "#gdp_and_internet_use = gdp_df.merge(internet_df, how=\"outer\",on=[\"Country\",\"Year\"])\n",
    "#print(gdp_and_internet_use)\n"
   ]
  },
  {
   "cell_type": "code",
   "execution_count": null,
   "id": "67b0fee3-8f81-45a4-ac0e-30216225a8ac",
   "metadata": {},
   "outputs": [],
   "source": [
    "##21. Find the three countries with the highest internet users percentage in 2014. \n",
    "#(https://seaborn.pydata.org/generated/seaborn.FacetGrid.html) \n",
    "#Use a seaborn FacetGrid to compare how the GDP per capita has changed over time for these three countries. \n",
    "#What do you notice?"
   ]
  },
  {
   "cell_type": "code",
   "execution_count": null,
   "id": "78e2408c-7b44-4309-8bd9-983ec9c4a726",
   "metadata": {},
   "outputs": [],
   "source": [
    "df_2014 = gdp_and_internet_use[gdp_and_internet_use[\"Year\"]==2014]\n",
    "top3_df = df_2014.nlargest(3,\"Internet_Users_Pct\") #(edited) \n",
    "top_net_user_2k14 = top3_df[top3_df['Country'].isin(['Iceland','Falkland (Malvinas) Islands','Bermuda'])]\n",
    "top_net_user_2k14"
   ]
  },
  {
   "cell_type": "code",
   "execution_count": null,
   "id": "6c11a4c9-dd4a-49b8-945a-bacd0853ca43",
   "metadata": {},
   "outputs": [],
   "source": [
    "#Use a seaborn FacetGrid (https://seaborn.pydata.org/generated/seaborn.FacetGrid.html) #to compare how the GDP per capita has changed over time for these three countries. What do you notice?\n",
    "top_net_user_2k14 = gdp_and_internet_use[gdp_and_internet_use['Country'].isin(['Iceland','Falkland (Malvinas) Islands','Bermuda'])]\n",
    "#top_net_user_2k14\n",
    "# Form a facetgrid using columns\n",
    "graph = sns.FacetGrid(top_net_user_2k14, col ='Country')\n",
    "# map the above form facetgrid with required attributes\n",
    "graph.map(plt.plot, 'Year', 'GDP_Per_Capita', linestyle = '-')"
   ]
  },
  {
   "cell_type": "code",
   "execution_count": null,
   "id": "cf1dce48-8ab2-49b7-9e89-49aa49c65a84",
   "metadata": {},
   "outputs": [],
   "source": [
    "##Question 22. Subset `gdp_and_internet_use` to just the year 2014. Save this as a new dataframe named `gdp_and_internet_use_2014`."
   ]
  },
  {
   "cell_type": "code",
   "execution_count": null,
   "id": "2b41b6f0-2c0b-46ca-9676-135551dae1aa",
   "metadata": {},
   "outputs": [],
   "source": [
    "#Renuk helped gdp_and_internet_use_2014 = gdp_and_internet_use[gdp_and_internet_use['Year']==2014]\n",
    "##Mike way of plylot This was my variable: \n",
    "\n",
    "gdp_and_internet_use_2014 = gdp_and_internet_use[gdp_and_internet_use['Year'] == 2014].dropna()"
   ]
  },
  {
   "cell_type": "code",
   "execution_count": null,
   "id": "c85da148-5377-47e1-b399-868b03f6b2b5",
   "metadata": {},
   "outputs": [],
   "source": [
    "#gdp_and_internet_use_2014"
   ]
  },
  {
   "cell_type": "code",
   "execution_count": null,
   "id": "032d6559-6d38-4a84-84c9-d7f918fa3592",
   "metadata": {},
   "outputs": [],
   "source": [
    "##Question 23 23. Create a plot which compares Internet Users Percentage and GDP per Capita for the year 2014. \n",
    "#What do you notice from this plot? If you see any unusual points, investigate them."
   ]
  },
  {
   "cell_type": "code",
   "execution_count": null,
   "id": "ce599cf3-dc65-4514-8f8b-a3a861a9f21d",
   "metadata": {},
   "outputs": [],
   "source": [
    "plt.scatter(gdp_and_internet_use_2014['GDP_Per_Capita'],gdp_and_internet_use_2014['Internet_Users_Pct'])\n",
    "#sns.kdeplot(data = gdp_and_internet_use_2014, x= 'GDP_Per_Capita',y ='Internet_Users_Pct')\n",
    "plt.xlabel(\"GDP Per Capita\")\n",
    "plt.ylabel(\"Internet User Percent\")\n",
    "plt.title(\"Interet User Percent vs GDP for the year 2014\")"
   ]
  },
  {
   "cell_type": "code",
   "execution_count": null,
   "id": "b0ee3af3-3a76-499d-b923-47c8f074b1b8",
   "metadata": {},
   "outputs": [],
   "source": [
    "fig = px.scatter(\n",
    "    gdp_and_internet_use_2014,\n",
    "    x='GDP_Per_Capita',\n",
    "    y='Internet_Users_Pct',\n",
    "    size='GDP_Per_Capita',\n",
    "    color='GDP_Per_Capita',\n",
    "    hover_name='Country', \n",
    "    title=\"GDP vs Internet Users\")\n",
    "fig.update_layout(width=1000, height=600)\n",
    "fig.show()"
   ]
  },
  {
   "cell_type": "code",
   "execution_count": null,
   "id": "f57035e0-45ff-45b7-8ec3-e8a20245454d",
   "metadata": {},
   "outputs": [],
   "source": [
    "## Questions 24. \n",
    "#(https://pandas.pydata.org/docs/reference/api/pandas.qcut.html) \n",
    "#**Stretch Question:** Use the `qcut` function from pandas(Link above)to divide countries in `gdp_per_capita_2014` \n",
    "#into three groups based on their GDP per capita values. Label these groups as \"Low\", \"Medium\", and \"High\". \n",
    "#Put these labels in a new column, named \"GDP_group\"."
   ]
  },
  {
   "cell_type": "code",
   "execution_count": null,
   "id": "28988428-4ec3-4ca3-b682-36e59afcc382",
   "metadata": {},
   "outputs": [],
   "source": [
    "#Create a dataframe gdp_per_capita_2014 for the year 2014\n",
    "gdp_per_capita_2014 = gdp_and_internet_use[gdp_and_internet_use['Year']==2014].reset_index(drop=True)\n",
    "gdp_per_capita_2014['GDP_group'] =  pd.qcut(gdp_per_capita_2014['GDP_Per_Capita'], 3, labels=[\"Low\", \"Medium\", \"High\"])\n",
    "gdp_per_capita_2014"
   ]
  },
  {
   "cell_type": "code",
   "execution_count": null,
   "id": "f674f621-17a1-4b35-8c0c-f2c390327a94",
   "metadata": {},
   "outputs": [],
   "source": [
    "##Question 25. **Stretch Question:** How does the median internet users percentage compare for the three gdp groups?"
   ]
  },
  {
   "cell_type": "code",
   "execution_count": null,
   "id": "5098ef0b-7b58-4d23-b219-e311a9ffa501",
   "metadata": {},
   "outputs": [],
   "source": [
    "gdp_per_capita_2014.groupby(['GDP_group'])['Internet_Users_Pct'].median().reset_index()"
   ]
  },
  {
   "cell_type": "code",
   "execution_count": null,
   "id": "ff1db3f9-201b-4efc-a6d7-f27a4c763fe6",
   "metadata": {},
   "outputs": [],
   "source": []
  }
 ],
 "metadata": {
  "kernelspec": {
   "display_name": "Python 3 (ipykernel)",
   "language": "python",
   "name": "python3"
  },
  "language_info": {
   "codemirror_mode": {
    "name": "ipython",
    "version": 3
   },
   "file_extension": ".py",
   "mimetype": "text/x-python",
   "name": "python",
   "nbconvert_exporter": "python",
   "pygments_lexer": "ipython3",
   "version": "3.12.7"
  }
 },
 "nbformat": 4,
 "nbformat_minor": 5
}
